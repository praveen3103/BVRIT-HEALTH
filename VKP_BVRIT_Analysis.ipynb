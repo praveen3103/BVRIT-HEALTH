{
  "nbformat": 4,
  "nbformat_minor": 0,
  "metadata": {
    "colab": {
      "provenance": [],
      "collapsed_sections": [],
      "include_colab_link": true
    },
    "kernelspec": {
      "name": "python3",
      "display_name": "Python 3"
    }
  },
  "cells": [
    {
      "cell_type": "markdown",
      "metadata": {
        "id": "view-in-github",
        "colab_type": "text"
      },
      "source": [
        "<a href=\"https://colab.research.google.com/github/praveen3103/BVRIT-HEALTH/blob/main/VKP_BVRIT_Analysis.ipynb\" target=\"_parent\"><img src=\"https://colab.research.google.com/assets/colab-badge.svg\" alt=\"Open In Colab\"/></a>"
      ]
    },
    {
      "cell_type": "markdown",
      "metadata": {
        "id": "hXshTgLZc5C3"
      },
      "source": [
        "# Machine Learning Model Implementation for VKP"
      ]
    },
    {
      "cell_type": "markdown",
      "metadata": {
        "id": "-l7vuIGrc9qt"
      },
      "source": [
        "# Importing Modules"
      ]
    },
    {
      "cell_type": "code",
      "metadata": {
        "id": "wftC9MNddAkr"
      },
      "source": [
        "# Importing modules\n",
        "import pandas as pd\n",
        "import numpy as np\n",
        "import matplotlib.pyplot as plt"
      ],
      "execution_count": null,
      "outputs": []
    },
    {
      "cell_type": "markdown",
      "metadata": {
        "id": "4X1L-TuMdiY-"
      },
      "source": [
        "# Reading Dataset from Excel Sheet"
      ]
    },
    {
      "cell_type": "code",
      "metadata": {
        "id": "wOy_cIhydE0O",
        "colab": {
          "base_uri": "https://localhost:8080/",
          "height": 252
        },
        "outputId": "cb1d8ae2-c9a3-4621-8ca5-2f61ea947d39"
      },
      "source": [
        "# Reading Dataset from Excel Sheet\n",
        "dataset=pd.read_excel('main_data.xlsx')\n",
        "print (dataset)"
      ],
      "execution_count": null,
      "outputs": [
        {
          "output_type": "stream",
          "text": [
            "         Vata  Pitta  Kapha  Age Gender  V  K  P\n",
            "0       364.0  336.0  322.0   30      M  0  1  0\n",
            "1       330.0  335.0  338.0   30      M  1  1  1\n",
            "2       399.0  401.0  407.0   30      M  1  0  1\n",
            "3       466.0  468.0  469.0   30      M  0  1  0\n",
            "4       504.0  503.0  507.0   30      M  0  0  0\n",
            "...       ...    ...    ...  ...    ... .. .. ..\n",
            "103031  447.0  490.0  407.0   23      M  1  1  1\n",
            "103032  404.0  447.0  375.0   23      M  1  1  1\n",
            "103033  374.0  422.0  332.0   23      M  1  1  1\n",
            "103034  363.0  425.0  310.0   23      M  0  0  1\n",
            "103035  359.0  440.0  291.0   23      M  0  1  1\n",
            "\n",
            "[103036 rows x 8 columns]\n"
          ],
          "name": "stdout"
        }
      ]
    },
    {
      "cell_type": "markdown",
      "metadata": {
        "id": "zdGUiOGXdln_"
      },
      "source": [
        "# Identifying Independent and Dependent Variables"
      ]
    },
    {
      "cell_type": "code",
      "metadata": {
        "id": "w-oQIuMQdt7M",
        "colab": {
          "base_uri": "https://localhost:8080/",
          "height": 151
        },
        "outputId": "d33e0c61-a5d5-403f-d798-1c060e7a6dde"
      },
      "source": [
        "# Identifying Independent Variables and Dependent Variables\n",
        "X=dataset.iloc[:,:-3].values\n",
        "y_v=dataset.iloc[:,-3].values\n",
        "print (X)\n",
        "print (y_v)"
      ],
      "execution_count": null,
      "outputs": [
        {
          "output_type": "stream",
          "text": [
            "[[364.0 336.0 322.0 30 'M']\n",
            " [330.0 335.0 338.0 30 'M']\n",
            " [399.0 401.0 407.0 30 'M']\n",
            " ...\n",
            " [374.0 422.0 332.0 23 'M']\n",
            " [363.0 425.0 310.0 23 'M']\n",
            " [359.0 440.0 291.0 23 'M']]\n",
            "[0 1 1 ... 1 0 0]\n"
          ],
          "name": "stdout"
        }
      ]
    },
    {
      "cell_type": "code",
      "metadata": {
        "id": "0ihS8ytxd0Zr",
        "colab": {
          "base_uri": "https://localhost:8080/",
          "height": 34
        },
        "outputId": "a3e85e16-e625-4a05-89ff-e09f1538ef75"
      },
      "source": [
        "y_k=dataset.iloc[:,-2].values\n",
        "print (y_k)"
      ],
      "execution_count": null,
      "outputs": [
        {
          "output_type": "stream",
          "text": [
            "[1 1 0 ... 1 0 1]\n"
          ],
          "name": "stdout"
        }
      ]
    },
    {
      "cell_type": "code",
      "metadata": {
        "id": "saccmnTed6g0",
        "colab": {
          "base_uri": "https://localhost:8080/",
          "height": 34
        },
        "outputId": "c2534e17-400e-47a1-9c57-629b8cc1831d"
      },
      "source": [
        "y_p=dataset.iloc[:,-1].values\n",
        "print (y_p)"
      ],
      "execution_count": null,
      "outputs": [
        {
          "output_type": "stream",
          "text": [
            "[0 1 1 ... 1 1 1]\n"
          ],
          "name": "stdout"
        }
      ]
    },
    {
      "cell_type": "markdown",
      "metadata": {
        "id": "noAGuaXweEtH"
      },
      "source": [
        "# Data Pre-Processing - Missing Values"
      ]
    },
    {
      "cell_type": "code",
      "metadata": {
        "id": "9NTdtBipeIf9",
        "colab": {
          "base_uri": "https://localhost:8080/",
          "height": 134
        },
        "outputId": "a5dee645-f03c-480a-be29-a28e7aac1783"
      },
      "source": [
        "# Taking care of missing data\n",
        "from sklearn.impute import SimpleImputer\n",
        "imputer = SimpleImputer(missing_values=np.nan, strategy='mean')\n",
        "imputer.fit(X[:, :4])\n",
        "X[:, :4] = imputer.transform(X[:, :4])\n",
        "print(X)"
      ],
      "execution_count": null,
      "outputs": [
        {
          "output_type": "stream",
          "text": [
            "[[364.0 336.0 322.0 30.0 'M']\n",
            " [330.0 335.0 338.0 30.0 'M']\n",
            " [399.0 401.0 407.0 30.0 'M']\n",
            " ...\n",
            " [374.0 422.0 332.0 23.0 'M']\n",
            " [363.0 425.0 310.0 23.0 'M']\n",
            " [359.0 440.0 291.0 23.0 'M']]\n"
          ],
          "name": "stdout"
        }
      ]
    },
    {
      "cell_type": "markdown",
      "metadata": {
        "id": "JhPjoQcAeRbM"
      },
      "source": [
        "#Data Pre-Processing - Categorical Data"
      ]
    },
    {
      "cell_type": "code",
      "metadata": {
        "id": "ntBpJqOfeUmw",
        "colab": {
          "base_uri": "https://localhost:8080/",
          "height": 134
        },
        "outputId": "3727e763-230a-4ca0-9a0e-16ec51bd79d8"
      },
      "source": [
        "# Non-Numeric Data has to be encoded\n",
        "from sklearn.compose import ColumnTransformer\n",
        "from sklearn.preprocessing import OneHotEncoder\n",
        "ct = ColumnTransformer(transformers=[('encoder', OneHotEncoder(), [4])], remainder='passthrough')\n",
        "X = np.array(ct.fit_transform(X))\n",
        "print(X)"
      ],
      "execution_count": null,
      "outputs": [
        {
          "output_type": "stream",
          "text": [
            "[[0.0 1.0 364.0 336.0 322.0 30.0]\n",
            " [0.0 1.0 330.0 335.0 338.0 30.0]\n",
            " [0.0 1.0 399.0 401.0 407.0 30.0]\n",
            " ...\n",
            " [0.0 1.0 374.0 422.0 332.0 23.0]\n",
            " [0.0 1.0 363.0 425.0 310.0 23.0]\n",
            " [0.0 1.0 359.0 440.0 291.0 23.0]]\n"
          ],
          "name": "stdout"
        }
      ]
    },
    {
      "cell_type": "markdown",
      "metadata": {
        "id": "PE8lcsQmeY5B"
      },
      "source": [
        "# Data Pre-Processing - Training and Testing Data Split"
      ]
    },
    {
      "cell_type": "code",
      "metadata": {
        "id": "DbzAxEtIecTf",
        "colab": {
          "base_uri": "https://localhost:8080/",
          "height": 722
        },
        "outputId": "7a9a6639-c6dd-433d-c236-f119b3000a11"
      },
      "source": [
        "# Splitting the dataset into the Training set and Test set\n",
        "from sklearn.model_selection import train_test_split\n",
        "Xv_train, Xv_test, yv_train, yv_test = train_test_split(X, y_v, test_size = 0.3, random_state = 1)\n",
        "Xk_train, Xk_test, yk_train, yk_test = train_test_split(X, y_k, test_size = 0.3, random_state = 1)\n",
        "Xp_train, Xp_test, yp_train, yp_test = train_test_split(X, y_p, test_size = 0.3, random_state = 1)\n",
        "print(Xv_train,yv_train)\n",
        "print(Xv_test,yv_test)\n",
        "print(Xk_train,yk_train)\n",
        "print(Xk_test,yk_test)\n",
        "print(Xp_train,yp_train)\n",
        "print(Xp_test,yp_test)"
      ],
      "execution_count": null,
      "outputs": [
        {
          "output_type": "stream",
          "text": [
            "[[0.0 1.0 733.0 478.0 424.0 28.0]\n",
            " [0.0 1.0 977.0 978.0 682.0 34.0]\n",
            " [0.0 1.0 506.0 505.0 489.0 24.0]\n",
            " ...\n",
            " [0.0 1.0 868.0 836.0 676.0 32.0]\n",
            " [0.0 1.0 438.0 435.0 426.0 30.0]\n",
            " [0.0 1.0 789.0 623.0 773.0 22.0]] [0 1 1 ... 1 0 0]\n",
            "[[1.0 0.0 417.0 458.0 476.0 28.0]\n",
            " [1.0 0.0 473.0 489.0 477.0 26.0]\n",
            " [0.0 1.0 503.0 515.0 515.0 24.0]\n",
            " ...\n",
            " [0.0 1.0 497.0 420.0 503.0 22.0]\n",
            " [0.0 1.0 584.0 806.0 793.0 30.0]\n",
            " [1.0 0.0 559.0 533.0 486.0 28.0]] [0 0 1 ... 1 0 0]\n",
            "[[0.0 1.0 733.0 478.0 424.0 28.0]\n",
            " [0.0 1.0 977.0 978.0 682.0 34.0]\n",
            " [0.0 1.0 506.0 505.0 489.0 24.0]\n",
            " ...\n",
            " [0.0 1.0 868.0 836.0 676.0 32.0]\n",
            " [0.0 1.0 438.0 435.0 426.0 30.0]\n",
            " [0.0 1.0 789.0 623.0 773.0 22.0]] [1 1 1 ... 1 1 0]\n",
            "[[1.0 0.0 417.0 458.0 476.0 28.0]\n",
            " [1.0 0.0 473.0 489.0 477.0 26.0]\n",
            " [0.0 1.0 503.0 515.0 515.0 24.0]\n",
            " ...\n",
            " [0.0 1.0 497.0 420.0 503.0 22.0]\n",
            " [0.0 1.0 584.0 806.0 793.0 30.0]\n",
            " [1.0 0.0 559.0 533.0 486.0 28.0]] [0 0 1 ... 1 1 0]\n",
            "[[0.0 1.0 733.0 478.0 424.0 28.0]\n",
            " [0.0 1.0 977.0 978.0 682.0 34.0]\n",
            " [0.0 1.0 506.0 505.0 489.0 24.0]\n",
            " ...\n",
            " [0.0 1.0 868.0 836.0 676.0 32.0]\n",
            " [0.0 1.0 438.0 435.0 426.0 30.0]\n",
            " [0.0 1.0 789.0 623.0 773.0 22.0]] [0 1 0 ... 1 1 1]\n",
            "[[1.0 0.0 417.0 458.0 476.0 28.0]\n",
            " [1.0 0.0 473.0 489.0 477.0 26.0]\n",
            " [0.0 1.0 503.0 515.0 515.0 24.0]\n",
            " ...\n",
            " [0.0 1.0 497.0 420.0 503.0 22.0]\n",
            " [0.0 1.0 584.0 806.0 793.0 30.0]\n",
            " [1.0 0.0 559.0 533.0 486.0 28.0]] [0 0 1 ... 0 0 0]\n"
          ],
          "name": "stdout"
        }
      ]
    },
    {
      "cell_type": "markdown",
      "metadata": {
        "id": "ULcfD_AxejYN"
      },
      "source": [
        "# Building Logistic Regression Model"
      ]
    },
    {
      "cell_type": "code",
      "metadata": {
        "id": "pTQ6oVnMeo4X",
        "colab": {
          "base_uri": "https://localhost:8080/",
          "height": 101
        },
        "outputId": "418c9141-24d5-4daf-9d6e-ac5fb4701f6a"
      },
      "source": [
        "# Training the Logistic Regression model on the Training set\n",
        "from sklearn.linear_model import LogisticRegression\n",
        "classifier_v = LogisticRegression(random_state = 0)\n",
        "classifier_v.fit(Xv_train, yv_train)\n",
        "classifier_k = LogisticRegression(random_state = 0)\n",
        "classifier_k.fit(Xk_train, yk_train)\n",
        "classifier_p = LogisticRegression(random_state = 0)\n",
        "classifier_p.fit(Xp_train, yp_train)"
      ],
      "execution_count": null,
      "outputs": [
        {
          "output_type": "execute_result",
          "data": {
            "text/plain": [
              "LogisticRegression(C=1.0, class_weight=None, dual=False, fit_intercept=True,\n",
              "                   intercept_scaling=1, l1_ratio=None, max_iter=100,\n",
              "                   multi_class='auto', n_jobs=None, penalty='l2',\n",
              "                   random_state=0, solver='lbfgs', tol=0.0001, verbose=0,\n",
              "                   warm_start=False)"
            ]
          },
          "metadata": {
            "tags": []
          },
          "execution_count": 114
        }
      ]
    },
    {
      "cell_type": "markdown",
      "metadata": {
        "id": "MJrCX_7eeuu3"
      },
      "source": [
        "# Prediction of Model"
      ]
    },
    {
      "cell_type": "code",
      "metadata": {
        "id": "H0WUWi0veyRh",
        "colab": {
          "base_uri": "https://localhost:8080/",
          "height": 67
        },
        "outputId": "20a9913e-eb5b-4574-c56e-a39739a995e4"
      },
      "source": [
        "yv_pred = classifier.predict(Xv_test)\n",
        "print (yv_pred)\n",
        "yk_pred = classifier.predict(Xk_test)\n",
        "print (yk_pred)\n",
        "yp_pred = classifier.predict(Xp_test)\n",
        "print (yp_pred)"
      ],
      "execution_count": null,
      "outputs": [
        {
          "output_type": "stream",
          "text": [
            "[0 0 0 ... 0 0 0]\n",
            "[0 0 0 ... 0 0 0]\n",
            "[0 0 0 ... 0 0 0]\n"
          ],
          "name": "stdout"
        }
      ]
    },
    {
      "cell_type": "markdown",
      "metadata": {
        "id": "kFrji6Bsh49F"
      },
      "source": [
        "# Performance Statstics"
      ]
    },
    {
      "cell_type": "code",
      "metadata": {
        "id": "spDMi2Cph7jW",
        "colab": {
          "base_uri": "https://localhost:8080/",
          "height": 134
        },
        "outputId": "9017de94-1e34-4cf7-e890-1a888153fd67"
      },
      "source": [
        "# Making the Confusion Matrix\n",
        "from sklearn.metrics import confusion_matrix, accuracy_score, classification_report\n",
        "\n",
        "vcm = confusion_matrix(yv_test, yv_pred)\n",
        "print(vcm)\n",
        "accuracy_score(yv_test, yv_pred)\n",
        "\n",
        "kcm = confusion_matrix(yk_test, yk_pred)\n",
        "print(kcm)\n",
        "accuracy_score(yk_test, yk_pred)\n",
        "\n",
        "pcm = confusion_matrix(yp_test, yp_pred)\n",
        "print(pcm)\n",
        "accuracy_score(yp_test, yp_pred)"
      ],
      "execution_count": null,
      "outputs": [
        {
          "output_type": "stream",
          "text": [
            "[[16005   103]\n",
            " [14683   120]]\n",
            "[[16090    99]\n",
            " [14598   124]]\n",
            "[[16164    93]\n",
            " [14524   130]]\n"
          ],
          "name": "stdout"
        },
        {
          "output_type": "execute_result",
          "data": {
            "text/plain": [
              "0.527126265730646"
            ]
          },
          "metadata": {
            "tags": []
          },
          "execution_count": 117
        }
      ]
    },
    {
      "cell_type": "markdown",
      "metadata": {
        "id": "N_nZ0W4OjWLD"
      },
      "source": [
        "# Vata - Performance "
      ]
    },
    {
      "cell_type": "code",
      "metadata": {
        "id": "XgZ98Bd2asmH",
        "colab": {
          "base_uri": "https://localhost:8080/",
          "height": 338
        },
        "outputId": "c8eb1c48-6eb9-400c-bb58-f07115f46f3f"
      },
      "source": [
        "import numpy as np\n",
        "import matplotlib.pyplot as plt\n",
        "import seaborn as sns\n",
        "\n",
        "class_names=[0,1] # 0 - Vatha is in Control, 1 - Vatha is higher\n",
        "fig, ax = plt.subplots()\n",
        "tick_marks = np.arange(len(class_names))\n",
        "plt.xticks(tick_marks, class_names)\n",
        "plt.yticks(tick_marks, class_names)\n",
        "# create heatmap\n",
        "sns.heatmap(pd.DataFrame(vcm), annot=True, cmap=\"YlGnBu\" ,fmt='g')\n",
        "ax.xaxis.set_label_position(\"top\")\n",
        "plt.tight_layout()\n",
        "plt.title('Confusion matrix', y=1.1)\n",
        "plt.ylabel('Actual label')\n",
        "plt.xlabel('Predicted label')"
      ],
      "execution_count": null,
      "outputs": [
        {
          "output_type": "execute_result",
          "data": {
            "text/plain": [
              "Text(0.5, 257.44, 'Predicted label')"
            ]
          },
          "metadata": {
            "tags": []
          },
          "execution_count": 122
        },
        {
          "output_type": "display_data",
          "data": {
            "image/png": "[encoded data removed]",
            "text/plain": [
              "<Figure size 432x288 with 2 Axes>"
            ]
          },
          "metadata": {
            "tags": [],
            "needs_background": "light"
          }
        }
      ]
    },
    {
      "cell_type": "code",
      "metadata": {
        "id": "OqyRPaLIb1D6",
        "colab": {
          "base_uri": "https://localhost:8080/",
          "height": 67
        },
        "outputId": "e27135cc-ded0-4a5b-c5d5-3a6c9ad12c9a"
      },
      "source": [
        "from sklearn import metrics\n",
        "print(\"Accuracy:\",metrics.accuracy_score(yv_test, yv_pred))\n",
        "print(\"Precision:\",metrics.precision_score(yv_test, yv_pred))\n",
        "print(\"Recall:\",metrics.recall_score(yv_test, yv_pred))"
      ],
      "execution_count": null,
      "outputs": [
        {
          "output_type": "stream",
          "text": [
            "Accuracy: 0.5216589563585778\n",
            "Precision: 0.5381165919282511\n",
            "Recall: 0.008106464905762346\n"
          ],
          "name": "stdout"
        }
      ]
    },
    {
      "cell_type": "code",
      "metadata": {
        "id": "GILUrM_TcD62",
        "colab": {
          "base_uri": "https://localhost:8080/",
          "height": 265
        },
        "outputId": "40c178b7-56c8-49e5-c767-95375329b914"
      },
      "source": [
        "yv_pred_proba = classifier.predict_proba(Xv_test)[::,1]\n",
        "fpr, tpr, _ = metrics.roc_curve(yv_test,  yv_pred_proba)\n",
        "auc = metrics.roc_auc_score(yv_test, yv_pred_proba)\n",
        "plt.plot(fpr,tpr,label=\"data 1, auc=\"+str(auc))\n",
        "plt.legend(loc=4)\n",
        "plt.show()"
      ],
      "execution_count": null,
      "outputs": [
        {
          "output_type": "display_data",
          "data": {
            "image/png": "[encoded data removed]",
            "text/plain": [
              "<Figure size 432x288 with 1 Axes>"
            ]
          },
          "metadata": {
            "tags": [],
            "needs_background": "light"
          }
        }
      ]
    },
    {
      "cell_type": "markdown",
      "metadata": {
        "id": "X9zhdfLcjcYO"
      },
      "source": [
        "# Kapha - Performance\n"
      ]
    },
    {
      "cell_type": "code",
      "metadata": {
        "id": "Gl3ZoRV_jgh2",
        "colab": {
          "base_uri": "https://localhost:8080/",
          "height": 340
        },
        "outputId": "4f5fc565-6bd5-47bf-9aa6-6677cb0a0fed"
      },
      "source": [
        "import numpy as np\n",
        "import matplotlib.pyplot as plt\n",
        "import seaborn as sns\n",
        "\n",
        "class_names=[0,1] # 0 - Kapha is in Control, 1 - Kapha is higher\n",
        "fig, ax = plt.subplots()\n",
        "tick_marks = np.arange(len(class_names))\n",
        "plt.xticks(tick_marks, class_names)\n",
        "plt.yticks(tick_marks, class_names)\n",
        "# create heatmap\n",
        "sns.heatmap(pd.DataFrame(kcm), annot=True, cmap=\"YlGnBu\" ,fmt='g')\n",
        "ax.xaxis.set_label_position(\"top\")\n",
        "plt.tight_layout()\n",
        "plt.title('Confusion matrix', y=1.1)\n",
        "plt.ylabel('Actual label')\n",
        "plt.xlabel('Predicted label')"
      ],
      "execution_count": null,
      "outputs": [
        {
          "output_type": "execute_result",
          "data": {
            "text/plain": [
              "Text(0.5, 257.44, 'Predicted label')"
            ]
          },
          "metadata": {
            "tags": []
          },
          "execution_count": 125
        },
        {
          "output_type": "display_data",
          "data": {
            "image/png": "[encoded data removed]",
            "text/plain": [
              "<Figure size 432x288 with 2 Axes>"
            ]
          },
          "metadata": {
            "tags": [],
            "needs_background": "light"
          }
        }
      ]
    },
    {
      "cell_type": "code",
      "metadata": {
        "id": "y1vpEc66juun",
        "colab": {
          "base_uri": "https://localhost:8080/",
          "height": 67
        },
        "outputId": "54913e63-ee9e-40a9-a359-271cb4de1e25"
      },
      "source": [
        "from sklearn import metrics\n",
        "print(\"Accuracy:\",metrics.accuracy_score(yk_test, yk_pred))\n",
        "print(\"Precision:\",metrics.precision_score(yk_test, yk_pred))\n",
        "print(\"Recall:\",metrics.recall_score(yk_test, yk_pred))"
      ],
      "execution_count": null,
      "outputs": [
        {
          "output_type": "stream",
          "text": [
            "Accuracy: 0.5245381902882469\n",
            "Precision: 0.5560538116591929\n",
            "Recall: 0.008422768645564462\n"
          ],
          "name": "stdout"
        }
      ]
    },
    {
      "cell_type": "code",
      "metadata": {
        "id": "uFbPuVOJj2-S",
        "colab": {
          "base_uri": "https://localhost:8080/",
          "height": 265
        },
        "outputId": "5d36a2cb-d066-4eea-a8dc-8ebf3d571751"
      },
      "source": [
        "yk_pred_proba = classifier.predict_proba(Xk_test)[::,1]\n",
        "fpr, tpr, _ = metrics.roc_curve(yk_test,  yk_pred_proba)\n",
        "auc = metrics.roc_auc_score(yk_test, yk_pred_proba)\n",
        "plt.plot(fpr,tpr,label=\"data 1, auc=\"+str(auc))\n",
        "plt.legend(loc=4)\n",
        "plt.show()"
      ],
      "execution_count": null,
      "outputs": [
        {
          "output_type": "display_data",
          "data": {
            "image/png": "[encoded data removed]",
            "text/plain": [
              "<Figure size 432x288 with 1 Axes>"
            ]
          },
          "metadata": {
            "tags": [],
            "needs_background": "light"
          }
        }
      ]
    },
    {
      "cell_type": "markdown",
      "metadata": {
        "id": "mps_NBeRkBdb"
      },
      "source": [
        "# Pitta - Performance"
      ]
    },
    {
      "cell_type": "code",
      "metadata": {
        "id": "CAojZubZkD7i",
        "colab": {
          "base_uri": "https://localhost:8080/",
          "height": 341
        },
        "outputId": "7b11f842-ce86-4ad1-f341-50cf3ef937a0"
      },
      "source": [
        "import numpy as np\n",
        "import matplotlib.pyplot as plt\n",
        "import seaborn as sns\n",
        "\n",
        "class_names=[0,1] # 0 - Pitta is in Control, 1 - Pitta is higher\n",
        "fig, ax = plt.subplots()\n",
        "tick_marks = np.arange(len(class_names))\n",
        "plt.xticks(tick_marks, class_names)\n",
        "plt.yticks(tick_marks, class_names)\n",
        "# create heatmap\n",
        "sns.heatmap(pd.DataFrame(pcm), annot=True, cmap=\"YlGnBu\" ,fmt='g')\n",
        "ax.xaxis.set_label_position(\"top\")\n",
        "plt.tight_layout()\n",
        "plt.title('Confusion matrix', y=1.1)\n",
        "plt.ylabel('Actual label')\n",
        "plt.xlabel('Predicted label')"
      ],
      "execution_count": null,
      "outputs": [
        {
          "output_type": "execute_result",
          "data": {
            "text/plain": [
              "Text(0.5, 257.44, 'Predicted label')"
            ]
          },
          "metadata": {
            "tags": []
          },
          "execution_count": 128
        },
        {
          "output_type": "display_data",
          "data": {
            "image/png": "[encoded data removed]",
            "text/plain": [
              "<Figure size 432x288 with 2 Axes>"
            ]
          },
          "metadata": {
            "tags": [],
            "needs_background": "light"
          }
        }
      ]
    },
    {
      "cell_type": "code",
      "metadata": {
        "id": "CNj6RBj6kbBz",
        "colab": {
          "base_uri": "https://localhost:8080/",
          "height": 67
        },
        "outputId": "f7a095f1-d817-4c50-f0ae-4501c574f7b6"
      },
      "source": [
        "from sklearn import metrics\n",
        "print(\"Accuracy:\",metrics.accuracy_score(yp_test, yp_pred))\n",
        "print(\"Precision:\",metrics.precision_score(yp_test, yp_pred))\n",
        "print(\"Recall:\",metrics.recall_score(yp_test, yp_pred))"
      ],
      "execution_count": null,
      "outputs": [
        {
          "output_type": "stream",
          "text": [
            "Accuracy: 0.527126265730646\n",
            "Precision: 0.5829596412556054\n",
            "Recall: 0.008871297939129249\n"
          ],
          "name": "stdout"
        }
      ]
    },
    {
      "cell_type": "code",
      "metadata": {
        "id": "TxaQImF4kjIh",
        "colab": {
          "base_uri": "https://localhost:8080/",
          "height": 265
        },
        "outputId": "a10c1475-bda0-4d35-a582-847d7ccd00c8"
      },
      "source": [
        "yp_pred_proba = classifier.predict_proba(Xp_test)[::,1]\n",
        "fpr, tpr, _ = metrics.roc_curve(yp_test,  yp_pred_proba)\n",
        "auc = metrics.roc_auc_score(yp_test, yp_pred_proba)\n",
        "plt.plot(fpr,tpr,label=\"data 1, auc=\"+str(auc))\n",
        "plt.legend(loc=4)\n",
        "plt.show()"
      ],
      "execution_count": null,
      "outputs": [
        {
          "output_type": "display_data",
          "data": {
            "image/png": "[encoded data removed]",
            "text/plain": [
              "<Figure size 432x288 with 1 Axes>"
            ]
          },
          "metadata": {
            "tags": [],
            "needs_background": "light"
          }
        }
      ]
    }
  ]
}